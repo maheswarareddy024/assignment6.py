{
 "cells": [
  {
   "cell_type": "code",
   "execution_count": null,
   "metadata": {},
   "outputs": [],
   "source": [
    "def reverse(string): \n",
    " \n",
    "    string = string[::-1] \n",
    " \n",
    "    return string \n",
    "a = \"Anil Kumar\"\n",
    "print (\"The original string  is : \",end=\"\") \n",
    "print (a) \n",
    " \n",
    "print (\"The reversed string is : \",end=\"\") \n",
    " \n",
    "print (reverse(a))\n"
   ]
  }
 ],
 "metadata": {
  "kernelspec": {
   "display_name": "Python 3",
   "language": "python",
   "name": "python3"
  },
  "language_info": {
   "codemirror_mode": {
    "name": "ipython",
    "version": 3
   },
   "file_extension": ".py",
   "mimetype": "text/x-python",
   "name": "python",
   "nbconvert_exporter": "python",
   "pygments_lexer": "ipython3",
   "version": "3.7.3"
  }
 },
 "nbformat": 4,
 "nbformat_minor": 2
}
