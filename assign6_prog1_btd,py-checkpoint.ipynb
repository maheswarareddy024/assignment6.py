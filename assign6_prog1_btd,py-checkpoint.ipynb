{
 "cells": [
  {
   "cell_type": "code",
   "execution_count": null,
   "metadata": {},
   "outputs": [],
   "source": [
    "binary=int(input(\"enter binary number\"))\n",
    "i, decimal, dec = 0 ,0 , 0\n",
    "while(binary!=0):\n",
    "    dec=binary%10\n",
    "    decimal=decimal+dec*pow(2,i)\n",
    "    binary=binary//10\n",
    "    i=i+1\n",
    "print(decimal)"
   ]
  }
 ],
 "metadata": {
  "kernelspec": {
   "display_name": "Python 3",
   "language": "python",
   "name": "python3"
  },
  "language_info": {
   "codemirror_mode": {
    "name": "ipython",
    "version": 3
   },
   "file_extension": ".py",
   "mimetype": "text/x-python",
   "name": "python",
   "nbconvert_exporter": "python",
   "pygments_lexer": "ipython3",
   "version": "3.7.3"
  }
 },
 "nbformat": 4,
 "nbformat_minor": 2
}
