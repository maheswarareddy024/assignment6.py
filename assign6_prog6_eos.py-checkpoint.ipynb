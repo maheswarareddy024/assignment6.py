{
 "cells": [
  {
   "cell_type": "code",
   "execution_count": null,
   "metadata": {},
   "outputs": [],
   "source": [
    "list1 = [43,23,14,10,643,11,34,19,32]\n",
    " \n",
    "even_count, odd_count = 0, 0\n",
    "for num in list1:\n",
    "#even numbers\n",
    " \n",
    "   if num % 2 == 0:\n",
    "      even_count += 1\n",
    " \n",
    " #odd numbers  \n",
    "   else:    \n",
    "       odd_count += 1\n",
    "print(\"Number of even numbers from a series of numbers: \", even_count)\n",
    "print(\"Number of odd numbers from a series of numbers : \", odd_count)"
   ]
  }
 ],
 "metadata": {
  "kernelspec": {
   "display_name": "Python 3",
   "language": "python",
   "name": "python3"
  },
  "language_info": {
   "codemirror_mode": {
    "name": "ipython",
    "version": 3
   },
   "file_extension": ".py",
   "mimetype": "text/x-python",
   "name": "python",
   "nbconvert_exporter": "python",
   "pygments_lexer": "ipython3",
   "version": "3.7.3"
  }
 },
 "nbformat": 4,
 "nbformat_minor": 2
}
